{
 "cells": [
  {
   "cell_type": "code",
   "execution_count": 20,
   "metadata": {},
   "outputs": [
    {
     "name": "stdout",
     "output_type": "stream",
     "text": [
      "Hello, 435345, thats cool\n",
      "Wow 345345?! You're old af \"HAHAHA\"\n"
     ]
    }
   ],
   "source": [
    "#just a test program\n",
    "name = input(\"What's your name? \")\n",
    "name = name.strip()\n",
    "name = name.capitalize()\n",
    "print(f\"Hello, {name}, thats cool\")\n",
    "age = input(\"How old are you? \")\n",
    "age = age.strip()\n",
    "print(\"Wow \"+ age + \"?!\" + \" You're old\", end=\"\")\n",
    "print(\" \\\"HAHAHA\\\"\")"
   ]
  }
 ],
 "metadata": {
  "kernelspec": {
   "display_name": "Python 3.10.5 64-bit",
   "language": "python",
   "name": "python3"
  },
  "language_info": {
   "codemirror_mode": {
    "name": "ipython",
    "version": 3
   },
   "file_extension": ".py",
   "mimetype": "text/x-python",
   "name": "python",
   "nbconvert_exporter": "python",
   "pygments_lexer": "ipython3",
   "version": "3.10.5"
  },
  "orig_nbformat": 4,
  "vscode": {
   "interpreter": {
    "hash": "369f2c481f4da34e4445cda3fffd2e751bd1c4d706f27375911949ba6bb62e1c"
   }
  }
 },
 "nbformat": 4,
 "nbformat_minor": 2
}

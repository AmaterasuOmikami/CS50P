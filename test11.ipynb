{
 "cells": [
  {
   "cell_type": "code",
   "execution_count": null,
   "metadata": {},
   "outputs": [],
   "source": [
    "#just a test program\n",
    "name = input(\"What's your name? \")\n",
    "name = name.strip().title()\n",
    "first, last = name.split(\" \")\n",
    "\n",
    "print(f\"Hello, {first}, thats cool\")\n",
    "\n",
    "age = input(\"How old are you? \")\n",
    "age = age.strip()\n",
    "\n",
    "print(\"Wow, \"+ age + \"?!\" + \" You're old\", end=\"\")\n",
    "print(\" \\\"HAHAHA\\\"\")"
   ]
  },
  {
   "cell_type": "code",
   "execution_count": 41,
   "metadata": {},
   "outputs": [
    {
     "name": "stdout",
     "output_type": "stream",
     "text": [
      "0.67\n"
     ]
    }
   ],
   "source": [
    "x = input(\"Tell me x\")\n",
    "y = input(\"Tell me y\")\n",
    "z = round(float(x) / float(y),2)\n",
    "print(f\"{z:,}\")"
   ]
  },
  {
   "cell_type": "code",
   "execution_count": 42,
   "metadata": {},
   "outputs": [
    {
     "name": "stdout",
     "output_type": "stream",
     "text": [
      "Hello\n",
      "Martynas Gintalas\n"
     ]
    }
   ],
   "source": [
    "def hello():\n",
    "    name = input(\"What's your name? \")\n",
    "    print(\"Hello\")\n",
    "\n",
    "hello()\n",
    "print(name)"
   ]
  }
 ],
 "metadata": {
  "kernelspec": {
   "display_name": "Python 3.10.5 64-bit",
   "language": "python",
   "name": "python3"
  },
  "language_info": {
   "codemirror_mode": {
    "name": "ipython",
    "version": 3
   },
   "file_extension": ".py",
   "mimetype": "text/x-python",
   "name": "python",
   "nbconvert_exporter": "python",
   "pygments_lexer": "ipython3",
   "version": "3.10.5"
  },
  "orig_nbformat": 4,
  "vscode": {
   "interpreter": {
    "hash": "369f2c481f4da34e4445cda3fffd2e751bd1c4d706f27375911949ba6bb62e1c"
   }
  }
 },
 "nbformat": 4,
 "nbformat_minor": 2
}

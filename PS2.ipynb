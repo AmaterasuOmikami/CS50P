{
 "cells": [
  {
   "cell_type": "code",
   "execution_count": 6,
   "metadata": {},
   "outputs": [
    {
     "name": "stdout",
     "output_type": "stream",
     "text": [
      "snake_case: ma_gin_da_so\n"
     ]
    }
   ],
   "source": [
    "import re\n",
    "phrase = input(\"camelCase: \")\n",
    "output = \"snake_case: \" + re.sub(r'(?<=[a-z])(?=[A-Z])', '_', phrase).lower()\n",
    "print(output)"
   ]
  },
  {
   "cell_type": "code",
   "execution_count": 5,
   "metadata": {},
   "outputs": [
    {
     "name": "stdout",
     "output_type": "stream",
     "text": [
      "snake_case: _ma_gin_nas_sd"
     ]
    }
   ],
   "source": [
    "phrase = input(\"camelCase: \")\n",
    "print(\"snake_case: \", end=\"\")\n",
    "for l in phrase:\n",
    "    if l.isupper():\n",
    "        print(\"_\" + l.lower(), end=\"\")\n",
    "    else:\n",
    "        print(l, end=\"\")\n"
   ]
  },
  {
   "cell_type": "code",
   "execution_count": 23,
   "metadata": {},
   "outputs": [
    {
     "name": "stdout",
     "output_type": "stream",
     "text": [
      "3\n"
     ]
    }
   ],
   "source": [
    "a = input()\n",
    "s = re.findall(r'\\d+', a)\n",
    "d = (s[0])\n",
    "print(d[0])"
   ]
  },
  {
   "cell_type": "code",
   "execution_count": 48,
   "metadata": {},
   "outputs": [
    {
     "ename": "IndexError",
     "evalue": "list index out of range",
     "output_type": "error",
     "traceback": [
      "\u001b[1;31m---------------------------------------------------------------------------\u001b[0m",
      "\u001b[1;31mIndexError\u001b[0m                                Traceback (most recent call last)",
      "\u001b[1;32mc:\\Users\\margi\\Desktop\\CODE\\CS50P\\PS2.ipynb Cell 4\u001b[0m in \u001b[0;36m<cell line: 10>\u001b[1;34m()\u001b[0m\n\u001b[0;32m      <a href='vscode-notebook-cell:/c%3A/Users/margi/Desktop/CODE/CS50P/PS2.ipynb#ch0000003?line=7'>8</a>\u001b[0m     s \u001b[39m=\u001b[39m (f[\u001b[39m0\u001b[39m])\n\u001b[0;32m      <a href='vscode-notebook-cell:/c%3A/Users/margi/Desktop/CODE/CS50P/PS2.ipynb#ch0000003?line=8'>9</a>\u001b[0m     \u001b[39mprint\u001b[39m(s)\n\u001b[1;32m---> <a href='vscode-notebook-cell:/c%3A/Users/margi/Desktop/CODE/CS50P/PS2.ipynb#ch0000003?line=9'>10</a>\u001b[0m first_num(plate)\n",
      "\u001b[1;32mc:\\Users\\margi\\Desktop\\CODE\\CS50P\\PS2.ipynb Cell 4\u001b[0m in \u001b[0;36mfirst_num\u001b[1;34m(s)\u001b[0m\n\u001b[0;32m      <a href='vscode-notebook-cell:/c%3A/Users/margi/Desktop/CODE/CS50P/PS2.ipynb#ch0000003?line=4'>5</a>\u001b[0m \u001b[39mdef\u001b[39;00m \u001b[39mfirst_num\u001b[39m(s):\n\u001b[0;32m      <a href='vscode-notebook-cell:/c%3A/Users/margi/Desktop/CODE/CS50P/PS2.ipynb#ch0000003?line=5'>6</a>\u001b[0m     d \u001b[39m=\u001b[39m re\u001b[39m.\u001b[39mfindall(\u001b[39mr\u001b[39m\u001b[39m'\u001b[39m\u001b[39m\\\u001b[39m\u001b[39md+\u001b[39m\u001b[39m'\u001b[39m, plate)\n\u001b[1;32m----> <a href='vscode-notebook-cell:/c%3A/Users/margi/Desktop/CODE/CS50P/PS2.ipynb#ch0000003?line=6'>7</a>\u001b[0m     f \u001b[39m=\u001b[39m (d[\u001b[39m0\u001b[39;49m])\n\u001b[0;32m      <a href='vscode-notebook-cell:/c%3A/Users/margi/Desktop/CODE/CS50P/PS2.ipynb#ch0000003?line=7'>8</a>\u001b[0m     s \u001b[39m=\u001b[39m (f[\u001b[39m0\u001b[39m])\n\u001b[0;32m      <a href='vscode-notebook-cell:/c%3A/Users/margi/Desktop/CODE/CS50P/PS2.ipynb#ch0000003?line=8'>9</a>\u001b[0m     \u001b[39mprint\u001b[39m(s)\n",
      "\u001b[1;31mIndexError\u001b[0m: list index out of range"
     ]
    }
   ],
   "source": [
    "plate = input()\n",
    "\n",
    "\n",
    "\n",
    "def first_num(s):\n",
    "    d = re.findall(r'\\d+', plate)\n",
    "    f = (d[0])\n",
    "    s = (f[0])\n",
    "    print(s)\n",
    "first_num(plate)"
   ]
  },
  {
   "cell_type": "code",
   "execution_count": 51,
   "metadata": {},
   "outputs": [
    {
     "name": "stdout",
     "output_type": "stream",
     "text": [
      "not ok\n"
     ]
    }
   ],
   "source": [
    "\n",
    "d = re.findall(r'\\d+', plate)\n",
    "if bool(d):\n",
    "    print(\"ok\")\n",
    "else:\n",
    "    print(\"not ok\")\n",
    "\n"
   ]
  },
  {
   "cell_type": "code",
   "execution_count": 65,
   "metadata": {},
   "outputs": [
    {
     "name": "stdout",
     "output_type": "stream",
     "text": [
      "9\n",
      "yes\n",
      "56465\n"
     ]
    }
   ],
   "source": [
    "plate = input()\n",
    "\n",
    "for i, c in enumerate(plate):\n",
    "    if c.isdigit():\n",
    "        a = i\n",
    "        break\n",
    "print(a)\n",
    "if plate[a:-1].isdigit():\n",
    "    print(\"yes\")\n",
    "else:\n",
    "    print(\"no\")\n",
    "print(plate[a:-1])"
   ]
  },
  {
   "cell_type": "code",
   "execution_count": null,
   "metadata": {},
   "outputs": [],
   "source": [
    "s = \"buzz\"\n",
    "for i in s:\n",
    "    print(i)"
   ]
  },
  {
   "cell_type": "code",
   "execution_count": null,
   "metadata": {},
   "outputs": [],
   "source": [
    "fruits = {\n",
    "    \"apple\": 130,\n",
    "    \"avocado\": 50,\n",
    "    \"sweet Cherries\": 100\n",
    "}\n",
    "\n",
    "q = input(\"Item: \").lower()\n",
    "\n",
    "for i in fruits:\n",
    "    if i in q:\n",
    "        print(\"Calories:\", fruits[i])\n"
   ]
  }
 ],
 "metadata": {
  "kernelspec": {
   "display_name": "Python 3.10.5 64-bit",
   "language": "python",
   "name": "python3"
  },
  "language_info": {
   "codemirror_mode": {
    "name": "ipython",
    "version": 3
   },
   "file_extension": ".py",
   "mimetype": "text/x-python",
   "name": "python",
   "nbconvert_exporter": "python",
   "pygments_lexer": "ipython3",
   "version": "3.10.6"
  },
  "orig_nbformat": 4,
  "vscode": {
   "interpreter": {
    "hash": "369f2c481f4da34e4445cda3fffd2e751bd1c4d706f27375911949ba6bb62e1c"
   }
  }
 },
 "nbformat": 4,
 "nbformat_minor": 2
}
